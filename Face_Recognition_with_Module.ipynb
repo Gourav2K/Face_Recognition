{
 "cells": [
  {
   "cell_type": "code",
   "execution_count": 1,
   "metadata": {},
   "outputs": [],
   "source": [
    "import numpy as np\n",
    "import cv2\n",
    "import pandas as pd\n",
    "import matplotlib.pyplot as plt\n",
    "import face_recognition\n",
    "import pickle\n",
    "import os"
   ]
  },
  {
   "cell_type": "code",
   "execution_count": 6,
   "metadata": {},
   "outputs": [],
   "source": [
    "def get_name():   # funtion to get name of person\n",
    "    name=input(\"Enter your name:\")\n",
    "    return name"
   ]
  },
  {
   "cell_type": "code",
   "execution_count": 7,
   "metadata": {},
   "outputs": [
    {
     "data": {
      "text/plain": [
       "'C:\\\\Users\\\\SouravKumar\\\\Desktop\\\\Face Recognition'"
      ]
     },
     "execution_count": 7,
     "metadata": {},
     "output_type": "execute_result"
    }
   ],
   "source": [
    "root= os.getcwd()\n",
    "root"
   ]
  },
  {
   "cell_type": "code",
   "execution_count": 8,
   "metadata": {},
   "outputs": [
    {
     "data": {
      "text/plain": [
       "'C:\\\\Users\\\\SouravKumar\\\\Desktop\\\\Face Recognition\\\\face_images'"
      ]
     },
     "execution_count": 8,
     "metadata": {},
     "output_type": "execute_result"
    }
   ],
   "source": [
    "if (os.path.exists(\"face_images\")==0):\n",
    "    os.mkdir(\"face_images\")\n",
    "images_folder= os.path.join(root,\"face_images\")\n",
    "images_folder"
   ]
  },
  {
   "cell_type": "code",
   "execution_count": 9,
   "metadata": {},
   "outputs": [],
   "source": [
    "if os.path.exists('known_face_names.txt'):\n",
    "    with open('known_face_names.txt','rb') as fp:\n",
    "        known_face_names=pickle.load(fp)\n",
    "else:\n",
    "    known_face_names=[]"
   ]
  },
  {
   "cell_type": "code",
   "execution_count": 10,
   "metadata": {},
   "outputs": [],
   "source": [
    "def cap_img(person_name):  # function to get image of person\n",
    "    video_capture = cv2.VideoCapture(0)\n",
    "\n",
    "    cv2.namedWindow(\"Registering...\")\n",
    "\n",
    "    while True:\n",
    "        ret, frame = video_capture.read()\n",
    "        if not ret:\n",
    "            print(\"failed to grab frame\")\n",
    "            break\n",
    "        cv2.putText(frame,\"Press Space to Capture\",(0,20),cv2.FONT_HERSHEY_DUPLEX,1,(0,0,0))\n",
    "        cv2.imshow(\"Registering...\", frame)\n",
    "\n",
    "        k = cv2.waitKey(1)\n",
    "        if k%256== 113:\n",
    "\n",
    "            print(\"ending img capture\")\n",
    "            break\n",
    "        elif k%256 == 32:\n",
    "\n",
    "            img_name = os.path.join(images_folder ,person_name+\".jpg\")\n",
    "            cv2.imwrite(img_name, frame)\n",
    "            print(\"{} written!\".format(img_name))\n",
    "\n",
    "\n",
    "    video_capture.release()\n",
    "\n",
    "    cv2.destroyAllWindows()"
   ]
  },
  {
   "cell_type": "code",
   "execution_count": 11,
   "metadata": {},
   "outputs": [],
   "source": [
    "def from_img_file(person_name):\n",
    "    src=input(\"Enter the path to the image and press enter: \")\n",
    "    if (os.path.exists==1):\n",
    "        image= cv2.imread(src)\n",
    "        img_name = os.path.join(images_folder ,person_name+\".jpg\")\n",
    "        cv2.imwrite(img_name, image)\n",
    "        print(\"{} written!\".format(img_name))\n",
    "    else:\n",
    "        print(\"No image in this path found!\")"
   ]
  },
  {
   "cell_type": "code",
   "execution_count": 12,
   "metadata": {},
   "outputs": [],
   "source": [
    "if os.path.exists('known_face_encodings.txt'):\n",
    "    with open('known_face_encodings.txt','rb') as fp:\n",
    "        known_face_encodings=pickle.load(fp)\n",
    "else:\n",
    "    known_face_encodings=[]"
   ]
  },
  {
   "cell_type": "code",
   "execution_count": 13,
   "metadata": {},
   "outputs": [],
   "source": [
    "images={}\n",
    "encoding={}"
   ]
  },
  {
   "cell_type": "code",
   "execution_count": 14,
   "metadata": {},
   "outputs": [],
   "source": [
    "def encode(person_name,known_face_encodings):\n",
    "    images[person_name]=face_recognition.load_image_file(os.path.join(images_folder ,person_name + \".jpg\"))\n",
    "    encoding[person_name]=face_recognition.face_encodings(images[person_name])[0]\n",
    "    known_face_encodings.append(encoding[person_name])"
   ]
  },
  {
   "cell_type": "code",
   "execution_count": 15,
   "metadata": {},
   "outputs": [],
   "source": [
    "def recognize_faces(known_face_names, known_face_encodings):\n",
    "    # Initialize some variables\n",
    "    face_locations = []\n",
    "    face_encodings = []\n",
    "    face_names = []\n",
    "    process_this_frame = True\n",
    "    \n",
    "    # Get a reference to webcam #0 (the default one)\n",
    "    video_capture = cv2.VideoCapture(0)\n",
    "\n",
    "    while True:\n",
    "        # Grab a single frame of video\n",
    "        ret, frame = video_capture.read()\n",
    "\n",
    "        # Resize frame of video to 1/4 size for faster face recognition processing\n",
    "        small_frame = cv2.resize(frame, (0, 0), fx=0.25, fy=0.25)\n",
    "\n",
    "        # Convert the image from BGR color (which OpenCV uses) to RGB color (which face_recognition uses)\n",
    "        rgb_small_frame = cv2.cvtColor(small_frame, cv2.COLOR_BGR2RGB)\n",
    "\n",
    "        # Only process every other frame of video to save time\n",
    "        if process_this_frame:\n",
    "            # Find all the faces and face encodings in the current frame of video\n",
    "            face_locations = face_recognition.face_locations(rgb_small_frame)\n",
    "            face_encodings = face_recognition.face_encodings(rgb_small_frame, face_locations)\n",
    "\n",
    "            face_names = []\n",
    "            for face_encoding in face_encodings:\n",
    "                # See if the face is a match for the known face(s)\n",
    "                matches = face_recognition.compare_faces(known_face_encodings, face_encoding)\n",
    "                name = \"Unknown\"\n",
    "\n",
    "                # # If a match was found in known_face_encodings, just use the first one.\n",
    "                # if True in matches:\n",
    "                #     first_match_index = matches.index(True)\n",
    "                #     name = known_face_names[first_match_index]\n",
    "\n",
    "                # Or instead, use the known face with the smallest distance to the new face\n",
    "                face_distances = face_recognition.face_distance(known_face_encodings, face_encoding)\n",
    "                best_match_index = np.argmin(face_distances)\n",
    "                if matches[best_match_index]:\n",
    "                    name = known_face_names[best_match_index]\n",
    "\n",
    "                face_names.append(name)\n",
    "\n",
    "        process_this_frame = not process_this_frame\n",
    "\n",
    "\n",
    "        # Display the results\n",
    "        for (top, right, bottom, left), name in zip(face_locations, face_names):\n",
    "            # Scale back up face locations since the frame we detected in was scaled to 1/4 size\n",
    "            top *= 4\n",
    "            right *= 4\n",
    "            bottom *= 4\n",
    "            left *= 4\n",
    "\n",
    "            # Draw a box around the face\n",
    "            cv2.rectangle(frame, (left, top), (right, bottom), (0, 0, 255), 2)\n",
    "\n",
    "            # Draw a label with a name below the face\n",
    "            cv2.rectangle(frame, (left, bottom - 35), (right, bottom), (0, 0, 255), cv2.FILLED)\n",
    "            font = cv2.FONT_HERSHEY_DUPLEX\n",
    "            cv2.putText(frame, name, (left + 6, bottom - 6), font, 1.0, (255, 255, 255), 1)\n",
    "\n",
    "        # Display the resulting image\n",
    "        cv2.imshow('Video', frame)\n",
    "\n",
    "        # Hit 'q' on the keyboard to quit!\n",
    "        if cv2.waitKey(1) & 0xFF == ord('q'):\n",
    "            break\n",
    "\n",
    "    # Release handle to the webcam\n",
    "    video_capture.release()\n",
    "    cv2.destroyAllWindows()"
   ]
  },
  {
   "cell_type": "code",
   "execution_count": 20,
   "metadata": {},
   "outputs": [
    {
     "name": "stdout",
     "output_type": "stream",
     "text": [
      "\n",
      " 1.Register yourself into the Database by taking a picture through Webcam \n",
      " 2. Register a person through an image of the person \n",
      " 3. Webcam Authentication Test \n",
      " 4. Exit \n",
      "5\n"
     ]
    }
   ],
   "source": [
    "while True:\n",
    "    choice = int(\n",
    "        input(\"\\n 1.Register yourself into the Database by taking a picture through Webcam \\n 2. Register a person through an image of the person \\n 3. Webcam Authentication Test \\n 4. Exit \\n\"))\n",
    "    if (choice == 1):\n",
    "        person_name=get_name()\n",
    "        known_face_names.append(person_name)\n",
    "        cap_img(person_name)\n",
    "        encode(person_name,known_face_encodings)\n",
    "    elif (choice==2):\n",
    "        person_name=get_name()\n",
    "        known_face_names.append(person_name)\n",
    "        from_img_file(person_name)\n",
    "        encode(person_name,known_face_encodings)\n",
    "    elif (choice == 3):\n",
    "        recognize_faces(known_face_names, known_face_encodings)\n",
    "    if (choice >= 4):\n",
    "        with open('known_face_names.txt', 'wb') as fp:\n",
    "            pickle.dump(known_face_names,fp)\n",
    "        with open('known_face_encodings.txt', 'wb') as fp:\n",
    "            pickle.dump(known_face_encodings,fp)\n",
    "        break"
   ]
  },
  {
   "cell_type": "code",
   "execution_count": null,
   "metadata": {},
   "outputs": [],
   "source": []
  }
 ],
 "metadata": {
  "kernelspec": {
   "display_name": "Python 3",
   "language": "python",
   "name": "python3"
  },
  "language_info": {
   "codemirror_mode": {
    "name": "ipython",
    "version": 3
   },
   "file_extension": ".py",
   "mimetype": "text/x-python",
   "name": "python",
   "nbconvert_exporter": "python",
   "pygments_lexer": "ipython3",
   "version": "3.7.6"
  }
 },
 "nbformat": 4,
 "nbformat_minor": 4
}
